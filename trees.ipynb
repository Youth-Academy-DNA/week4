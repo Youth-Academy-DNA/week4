{
 "cells": [
  {
   "cell_type": "markdown",
   "metadata": {},
   "source": [
    "# Making A Phylogenetic Tree"
   ]
  },
  {
   "cell_type": "code",
   "execution_count": null,
   "metadata": {},
   "outputs": [],
   "source": [
    "# Import modules\n",
    "from Bio import Phylo\n",
    "from Bio.Phylo.TreeConstruction import DistanceCalculator\n",
    "from Bio.Phylo.TreeConstruction import DistanceTreeConstructor\n",
    "from Bio import AlignIO\n",
    "\n",
    "# Read the sequences and align\n",
    "aln = AlignIO.read('msa.phy', 'phylip')\n",
    "\n",
    "# Print the alignment\n",
    "print aln\n",
    "\n",
    "# Calculate the distance matrix\n",
    "calculator = DistanceCalculator('identity')\n",
    "dm = calculator.get_distance(aln)\n",
    "\n",
    "# Print the distance Matrix\n",
    "print('\\nDistance Matrix\\n===================')\n",
    "print(dm)\n",
    "\n",
    "# Construct the phylogenetic tree using UPGMA algorithm\n",
    "constructor = DistanceTreeConstructor()\n",
    "tree = constructor.upgma(dm)\n",
    "\n",
    "# Draw the phylogenetic tree\n",
    "Phylo.draw(tree)\n",
    "\n",
    "# Print the phylogenetic tree in the terminal\n",
    "print('\\nPhylogenetic Tree\\n===================')\n",
    "Phylo.draw_ascii(tree)\n",
    "view rawTreeConstructionDistanceBased.py hosted with ❤ by GitHub"
   ]
  }
 ],
 "metadata": {
  "kernelspec": {
   "display_name": "Python 3",
   "language": "python",
   "name": "python3"
  },
  "language_info": {
   "codemirror_mode": {
    "name": "ipython",
    "version": 3
   },
   "file_extension": ".py",
   "mimetype": "text/x-python",
   "name": "python",
   "nbconvert_exporter": "python",
   "pygments_lexer": "ipython3",
   "version": "3.7.8"
  }
 },
 "nbformat": 4,
 "nbformat_minor": 4
}
