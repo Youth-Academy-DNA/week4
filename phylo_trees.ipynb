{
 "cells": [
  {
   "cell_type": "markdown",
   "metadata": {},
   "source": [
    "# Making A Phylogenetic Tree\n",
    "\n",
    "Phylogenetic trees help us show relationships between species. In this practical we will:\n",
    "- Use bacterial DNA from the at-home activity to see if the your thoughts on what bacteria are most related is backed up by the DNA data!\n"
   ]
  },
  {
   "cell_type": "code",
   "execution_count": 1,
   "metadata": {},
   "outputs": [],
   "source": [
    "# Import libraries\n",
    "#why do we need these??\n",
    "from Bio import Phylo\n",
    "from Bio.Phylo.TreeConstruction import DistanceCalculator\n",
    "from Bio.Phylo.TreeConstruction import DistanceTreeConstructor\n",
    "from Bio import AlignIO\n"
   ]
  },
  {
   "cell_type": "markdown",
   "metadata": {},
   "source": [
    "- In the next block fill in the filename with our data which is \"msa.phy\"\n",
    "- What do we normally do after reading in data, can you give a reason why we may not have to do this??\n",
    "- Use the print() function to look at your data.\n",
    "    -How many bacteria are there?"
   ]
  },
  {
   "cell_type": "code",
   "execution_count": 2,
   "metadata": {},
   "outputs": [
    {
     "name": "stdout",
     "output_type": "stream",
     "text": [
      "Alignment with 3 rows and 13 columns\n",
      "AACGTGGCCACAT Shewanella\n",
      "GAGATTTCCGCCT Klebsiella\n",
      "GAGATCTCCGCCC Salmonella\n"
     ]
    }
   ],
   "source": [
    "# Read the sequences \n",
    "# What does alignment do\n",
    "aln = AlignIO.read('filename', 'phylip')\n",
    "\n",
    "# Print the alignment\n"
   ]
  },
  {
   "cell_type": "markdown",
   "metadata": {},
   "source": [
    "- In the next block we will \"match up\" the sequences to see how similar they are\n",
    "- Fill in the variable name for your data in the brackets which are blank\n",
    "- We will recieve a number for each pair, the lower the number the more similar the bacteria are\n",
    "- Use print() to print these numbers which are in the variable dm\n",
    "- Using the numbers which two do you think are most similar??"
   ]
  },
  {
   "cell_type": "code",
   "execution_count": 4,
   "metadata": {},
   "outputs": [
    {
     "name": "stdout",
     "output_type": "stream",
     "text": [
      "Shewanella\t0\n",
      "Klebsiella\t0.5384615384615384\t0\n",
      "Salmonella\t0.6153846153846154\t0.15384615384615385\t0\n",
      "\tShewanella\tKlebsiella\tSalmonella\n"
     ]
    }
   ],
   "source": [
    "# Calculate the distance matrix\n",
    "calculator = DistanceCalculator('identity')\n",
    "dm = calculator.get_distance()\n",
    "\n",
    "# Print the distance Matrix\n",
    "print()\n",
    "\n",
    "\n"
   ]
  },
  {
   "cell_type": "markdown",
   "metadata": {},
   "source": [
    "- Finally we can show these similarities using a phylogenetic tree.\n",
    "- I have told python that our tree will be called mytree\n",
    "- In order to finish the tree insert mytree in the third blank you see\n",
    "- Also give print a message to display above your tree!\n",
    "- Does the tree  match you thoughts from above and the at-home activity?\n",
    "- Which are the most similar?? Why do you think this is true?"
   ]
  },
  {
   "cell_type": "code",
   "execution_count": 6,
   "metadata": {},
   "outputs": [
    {
     "name": "stdout",
     "output_type": "stream",
     "text": [
      "mytree\n",
      "                                                   _________________ Salmonella\n",
      "  ________________________________________________|\n",
      "_|                                                |_________________ Klebsiella\n",
      " |\n",
      " |__________________________________________________________________ Shewanella\n",
      "\n"
     ]
    }
   ],
   "source": [
    "# Construct the phylogenetic tree using UPGMA algorithm\n",
    "constructor = DistanceTreeConstructor()\n",
    "mytree = constructor.upgma(dm)\n",
    "\n",
    "# Print the phylogenetic tree and give it a message!\n",
    "print('')\n",
    "Phylo.draw_ascii()\n"
   ]
  },
  {
   "cell_type": "code",
   "execution_count": null,
   "metadata": {},
   "outputs": [],
   "source": [
    "##Bonus\n",
    "#Switch upgma to nj in the second line\n",
    "#put mytree2 in the last blank\n",
    "#Compare the two trees!!!\n",
    "#What are the main differences\n",
    "\n",
    "# Construct the phylogenetic tree using nj algorithm\n",
    "constructor = DistanceTreeConstructor()\n",
    "mytree2 = constructor.upgma(dm)\n",
    "\n",
    "\n",
    "# Print the phylogenetic tree and give it a message!\n",
    "print('')\n",
    "Phylo.draw_ascii()\n",
    "\n"
   ]
  }
 ],
 "metadata": {
  "kernelspec": {
   "display_name": "Python 3",
   "language": "python",
   "name": "python3"
  },
  "language_info": {
   "codemirror_mode": {
    "name": "ipython",
    "version": 3
   },
   "file_extension": ".py",
   "mimetype": "text/x-python",
   "name": "python",
   "nbconvert_exporter": "python",
   "pygments_lexer": "ipython3",
   "version": "3.7.8"
  }
 },
 "nbformat": 4,
 "nbformat_minor": 4
}
